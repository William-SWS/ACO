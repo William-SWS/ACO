{
 "cells": [
  {
   "cell_type": "code",
   "execution_count": null,
   "metadata": {},
   "outputs": [],
   "source": [
    "import numpy as np\n",
    "import matplotlib.pyplot as plt\n",
    "\n",
    "class AntColonyOptimizer:\n",
    "    def __init__(self, distance, n_ants, n_best, n_iterations, decay, alpha=1, beta=1, ):\n",
    "        self.distance = distance\n",
    "        self.pheromone = np.ones(self.distance.shape) / len(distance)\n",
    "        self.all_inds = range(len(distance))\n",
    "        self.n_ants = n_ants\n",
    "        self.n_best = n_best\n",
    "        self.n_iterations = n_iterations\n",
    "        self.decay = decay\n",
    "        self.alpha = alpha\n",
    "        self.beta = beta\n",
    "        \n",
    "    def run(self):\n",
    "        shortest_path = None\n",
    "        best_cost = float('inf')\n",
    "        all_paths = []\n",
    "        for i in range(self.n.iterations):\n",
    "            paths = self.generate_paths()\n",
    "            all_paths.extend(paths)\n",
    "            self.spread_pheronome(paths, self.beast_paths(paths))\n",
    "            best_path_cost, best_path = min((self.path_cost(path) ,path) for path in paths)   \n",
    "            if best_path_cost < best_cost:\n",
    "                shortest_path = best_path\n",
    "                best_cost = best_path_cost\n",
    "                self.pheromone *= self.decay\n",
    "            return all_paths, shortest_path, best_cost, all_paths     \n",
    "            "
   ]
  },
  {
   "cell_type": "code",
   "execution_count": 16,
   "metadata": {},
   "outputs": [],
   "source": [
    "def generate_paths(self):\n",
    "    def generate_paths(self):\n",
    "        # Inicializa a lista de caminhos\n",
    "        paths = []\n",
    "        # Para cada formiga\n",
    "        for i in range(self.n_ants):\n",
    "            # Inicia o caminho com um nó aleatório\n",
    "            path = [np.random.randint(len(self.distances))]\n",
    "            # Enquanto o caminho não estiver completo\n",
    "            while len(path) < len(self.distances):\n",
    "                # Escolhe o próximo movimento de forma probabilística\n",
    "                move = self.probabilistic_move(path)\n",
    "                # Adiciona o movimento ao caminho\n",
    "                path.append(move)\n",
    "            # Adiciona o caminho à lista de caminhos\n",
    "            paths.append(path)\n",
    "        # Retorna a lista de caminhos\n",
    "        return paths\n",
    "    for i in range(self.n_ants):\n",
    "        path = [np.random.randint(len(self.distances))]\n",
    "        while len(path) < len(self.distances):\n",
    "            move = self.probabilistic_move(path)\n",
    "            path.append(move)\n",
    "        paths.append(path)\n",
    "    return paths"
   ]
  },
  {
   "cell_type": "code",
   "execution_count": 17,
   "metadata": {},
   "outputs": [],
   "source": [
    "def probabilistic_next_move(self, current_path):\n",
    "    last_node = current_path[-1]\n",
    "    weights = np.copy(self.pheromone[last_node])\n",
    "    weights[current_path] = 0 #evitar que se revisite um caminho\n",
    "    mask = self.distances[last_node] > 0 \n",
    "    def probabilistic_next_move(self, current_path):\n",
    "        # Obtém o último nó do caminho atual\n",
    "        last_node = current_path[-1]\n",
    "        # Copia os pesos dos feromônios do último nó\n",
    "        weights = np.copy(self.pheromone[last_node])\n",
    "        # Define os pesos dos nós já visitados como zero para evitar revisitas\n",
    "        weights[current_path] = 0\n",
    "        # Cria uma máscara para os nós que têm uma distância maior que zero\n",
    "        mask = self.distances[last_node] > 0 \n",
    "        # Ajusta os pesos dos feromônios com base na distância e no parâmetro beta\n",
    "        weights[mask] /= self.distances[last_node][mask] ** self.beta\n",
    "        # Se a soma dos pesos for zero, escolhe um nó aleatório\n",
    "        if np.sum(weights) == 0:\n",
    "            return np.random.choice(self.all_inds)\n",
    "        # Normaliza os pesos dos feromônios\n",
    "        normalized_weights = weights / np.sum(weights)\n",
    "        # Escolhe o próximo nó com base nos pesos normalizados\n",
    "        next_node = np.random.choice(self.all_inds, p=normalized_weights)\n",
    "        return next_node\n",
    "    if np.sum(weights) == 0:\n",
    "        return np.ramdom.choice(self.all_inds)\n",
    "    normalized_weights = weights / np.sum(weights)\n",
    "    next_node = np.random.choice(self.all_inds, p=normalized_weights)\n",
    "    return next_node"
   ]
  },
  {
   "cell_type": "code",
   "execution_count": 18,
   "metadata": {},
   "outputs": [],
   "source": [
    "def spread_pheronome(self, paths, best_paths): \n",
    "    # Para cada caminho e seu custo nos melhores caminhos\n",
    "    for path_cost, path in best_paths:\n",
    "        # Para cada movimento no caminho (exceto o último)\n",
    "        for move in range(len(path) - 1):\n",
    "            # Atualiza a quantidade de feromônio no caminho baseado no custo do caminho\n",
    "            self.pheromone[path[move], path[move + 1]] += 1.0 / path_cost\n",
    "            \n"
   ]
  },
  {
   "cell_type": "code",
   "execution_count": 19,
   "metadata": {},
   "outputs": [],
   "source": [
    "def best_paths(self, paths):\n",
    "    return sorted([(self.path_cost(path), path) for path in paths])[:self.n_best]"
   ]
  },
  {
   "cell_type": "code",
   "execution_count": 20,
   "metadata": {},
   "outputs": [],
   "source": [
    "def path_cost(self, path):\n",
    "    return sum([self.distances[path[i], path[i + 1]] for i in range(len(path) - 1)])\n",
    "    # calcula o custo de um caminho somando as distâncias entre os nós consecutivos no caminho.\n",
    "    # Para cada par de nós consecutivos no caminho, a distância entre eles é obtida da matriz de distâncias e somada ao custo total."
   ]
  },
  {
   "cell_type": "markdown",
   "metadata": {},
   "source": [
    "# Exemplo pratico\n"
   ]
  },
  {
   "cell_type": "code",
   "execution_count": 21,
   "metadata": {},
   "outputs": [
    {
     "ename": "AttributeError",
     "evalue": "'AntColonyOptimizer' object has no attribute 'n'",
     "output_type": "error",
     "traceback": [
      "\u001b[1;31m---------------------------------------------------------------------------\u001b[0m",
      "\u001b[1;31mAttributeError\u001b[0m                            Traceback (most recent call last)",
      "Cell \u001b[1;32mIn[21], line 3\u001b[0m\n\u001b[0;32m      1\u001b[0m distances \u001b[38;5;241m=\u001b[39m np\u001b[38;5;241m.\u001b[39marray([[\u001b[38;5;241m0\u001b[39m, \u001b[38;5;241m2\u001b[39m, \u001b[38;5;241m3\u001b[39m], [\u001b[38;5;241m2\u001b[39m, \u001b[38;5;241m0\u001b[39m, \u001b[38;5;241m4\u001b[39m], [\u001b[38;5;241m3\u001b[39m, \u001b[38;5;241m4\u001b[39m, \u001b[38;5;241m0\u001b[39m]])\n\u001b[0;32m      2\u001b[0m aco \u001b[38;5;241m=\u001b[39m AntColonyOptimizer(distances, n_ants\u001b[38;5;241m=\u001b[39m\u001b[38;5;241m10\u001b[39m, n_best\u001b[38;5;241m=\u001b[39m\u001b[38;5;241m3\u001b[39m, n_iterations\u001b[38;5;241m=\u001b[39m\u001b[38;5;241m100\u001b[39m, decay\u001b[38;5;241m=\u001b[39m\u001b[38;5;241m0.95\u001b[39m, alpha\u001b[38;5;241m=\u001b[39m\u001b[38;5;241m1\u001b[39m, beta\u001b[38;5;241m=\u001b[39m\u001b[38;5;241m2\u001b[39m)\n\u001b[1;32m----> 3\u001b[0m shortest_path, cost, all_paths \u001b[38;5;241m=\u001b[39m \u001b[43maco\u001b[49m\u001b[38;5;241;43m.\u001b[39;49m\u001b[43mrun\u001b[49m\u001b[43m(\u001b[49m\u001b[43m)\u001b[49m\n\u001b[0;32m      5\u001b[0m \u001b[38;5;28mprint\u001b[39m(\u001b[38;5;124m\"\u001b[39m\u001b[38;5;124mShortest path:\u001b[39m\u001b[38;5;124m\"\u001b[39m, shortest_path)\n\u001b[0;32m      6\u001b[0m \u001b[38;5;28mprint\u001b[39m(\u001b[38;5;124m\"\u001b[39m\u001b[38;5;124mCost:\u001b[39m\u001b[38;5;124m\"\u001b[39m, cost)\n",
      "Cell \u001b[1;32mIn[15], line 20\u001b[0m, in \u001b[0;36mAntColonyOptimizer.run\u001b[1;34m(self)\u001b[0m\n\u001b[0;32m     18\u001b[0m best_cost \u001b[38;5;241m=\u001b[39m \u001b[38;5;28mfloat\u001b[39m(\u001b[38;5;124m'\u001b[39m\u001b[38;5;124minf\u001b[39m\u001b[38;5;124m'\u001b[39m)\n\u001b[0;32m     19\u001b[0m all_paths \u001b[38;5;241m=\u001b[39m []\n\u001b[1;32m---> 20\u001b[0m \u001b[38;5;28;01mfor\u001b[39;00m i \u001b[38;5;129;01min\u001b[39;00m \u001b[38;5;28mrange\u001b[39m(\u001b[38;5;28;43mself\u001b[39;49m\u001b[38;5;241;43m.\u001b[39;49m\u001b[43mn\u001b[49m\u001b[38;5;241m.\u001b[39miterations):\n\u001b[0;32m     21\u001b[0m     paths \u001b[38;5;241m=\u001b[39m \u001b[38;5;28mself\u001b[39m\u001b[38;5;241m.\u001b[39mgenerate_paths()\n\u001b[0;32m     22\u001b[0m     all_paths\u001b[38;5;241m.\u001b[39mextend(paths)\n",
      "\u001b[1;31mAttributeError\u001b[0m: 'AntColonyOptimizer' object has no attribute 'n'"
     ]
    }
   ],
   "source": [
    "distances = np.array([[0, 2, 3], [2, 0, 4], [3, 4, 0]])\n",
    "aco = AntColonyOptimizer(distances, n_ants=10, n_best=3, n_iterations=100, decay=0.95, alpha=1, beta=2)\n",
    "shortest_path, cost, all_paths = aco.run()\n",
    "\n",
    "print(\"Shortest path:\", shortest_path)\n",
    "print(\"Cost:\", cost)\n",
    "\n",
    "# Plotting all paths\n",
    "fig, ax = plt.subplots(figsize=(8, 8))\n",
    "x = np.random.rand(distances.shape[0])\n",
    "y = np.random.rand(distances.shape[0])\n",
    "\n",
    "for path in all_paths:\n",
    "    for i in range(len(path) - 1):\n",
    "        ax.plot([x[path[i]], x[path[i+1]]], [y[path[i]], y[path[i+1]]], 'grey', alpha=0.5, linewidth=1)\n",
    "        mid_x, mid_y = (x[path[i]] + x[path[i+1]]) / 2, (y[path[i]] + y[path[i+1]]) / 2\n",
    "        ax.text(mid_x, mid_y, str(distances[path[i], path[i+1]]), color='black', fontsize=8)\n",
    "\n",
    "for i, (xi, yi) in enumerate(zip(x, y)):\n",
    "    ax.scatter(xi, yi, color='blue')\n",
    "    ax.text(xi, yi, f'City {i}', color='black')\n",
    "\n",
    "ax.set_title(\"All Paths Explored\")\n",
    "plt.show()\n",
    "\n",
    "# Plotting the shortest path\n",
    "fig, ax = plt.subplots(figsize=(8, 8))\n",
    "for i in range(len(shortest_path) - 1):\n",
    "    ax.plot([x[shortest_path[i]], x[shortest_path[i+1]]], [y[shortest_path[i]], y[shortest_path[i+1]]], 'b-', linewidth=2)\n",
    "    mid_x, mid_y = (x[shortest_path[i]] + x[shortest_path[i+1]]) / 2, (y[shortest_path[i]] + y[shortest_path[i+1]]) / 2\n",
    "    ax.text(mid_x, mid_y, str(distances[shortest_path[i], shortest_path[i+1]]), color='red', fontsize=8)\n",
    "\n",
    "for i, (xi, yi) in enumerate(zip(x, y)):\n",
    "    ax.scatter(xi, yi, color='red')\n",
    "    ax.text(xi, yi, f'City {i}', color='black')\n",
    "\n",
    "ax.set_title(f\"Shortest Path (Cost: {cost})\")\n",
    "plt.show()"
   ]
  }
 ],
 "metadata": {
  "kernelspec": {
   "display_name": ".venv",
   "language": "python",
   "name": "python3"
  },
  "language_info": {
   "codemirror_mode": {
    "name": "ipython",
    "version": 3
   },
   "file_extension": ".py",
   "mimetype": "text/x-python",
   "name": "python",
   "nbconvert_exporter": "python",
   "pygments_lexer": "ipython3",
   "version": "3.13.0"
  }
 },
 "nbformat": 4,
 "nbformat_minor": 2
}
