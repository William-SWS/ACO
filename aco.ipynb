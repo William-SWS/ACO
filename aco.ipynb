{
 "cells": [
  {
   "cell_type": "code",
   "execution_count": 7,
   "metadata": {},
   "outputs": [],
   "source": [
    "import numpy as np\n",
    "import matplotlib.pyplot as plt\n",
    "\n",
    "class AntColony:\n",
    "    def __init__(self, distance, n_ants, n_best, n_iterations, decay, alpha=1, beta=1, ):\n",
    "        self.distance = distance\n",
    "        self.pheromone = np.ones(self.distance.shape) / len(distance)\n",
    "        self.all_inds = range(len(distance))\n",
    "        self.n_ants = n_ants\n",
    "        self.n_best = n_best\n",
    "        self.n_iterations = n_iterations\n",
    "        self.decay = decay\n",
    "        self.alpha = alpha\n",
    "        self.beta = beta\n",
    "        \n",
    "    def run(self):\n",
    "        shortest_path = None\n",
    "        best_cost = float('inf')\n",
    "        all_paths = []\n",
    "        for i in range(self.n.iterations):\n",
    "            paths = self.generate_paths()\n",
    "            all_paths.extend(paths)\n",
    "            self.spread_pheronome(paths, self.beast_paths(paths))\n",
    "            best_path_cost, best_path = min((self.path_cost(path) ,path) for path in paths)   \n",
    "            if best_path_cost < best_cost:\n",
    "                shortest_path = best_path\n",
    "                best_cost = best_path_cost\n",
    "                self.pheromone *= self.decay\n",
    "            return all_paths, shortest_path, best_cost, all_paths     \n",
    "            "
   ]
  },
  {
   "cell_type": "code",
   "execution_count": null,
   "metadata": {},
   "outputs": [],
   "source": [
    "def generate_paths(self):\n",
    "    def generate_paths(self):\n",
    "        # Inicializa a lista de caminhos\n",
    "        paths = []\n",
    "        # Para cada formiga\n",
    "        for i in range(self.n_ants):\n",
    "            # Inicia o caminho com um nó aleatório\n",
    "            path = [np.random.randint(len(self.distances))]\n",
    "            # Enquanto o caminho não estiver completo\n",
    "            while len(path) < len(self.distances):\n",
    "                # Escolhe o próximo movimento de forma probabilística\n",
    "                move = self.probabilistic_move(path)\n",
    "                # Adiciona o movimento ao caminho\n",
    "                path.append(move)\n",
    "            # Adiciona o caminho à lista de caminhos\n",
    "            paths.append(path)\n",
    "        # Retorna a lista de caminhos\n",
    "        return paths\n",
    "    for i in range(self.n_ants):\n",
    "        path = [np.random.randint(len(self.distances))]\n",
    "        while len(path) < len(self.distances):\n",
    "            move = self.probabilistic_move(path)\n",
    "            path.append(move)\n",
    "        paths.append(path)\n",
    "    return paths"
   ]
  },
  {
   "cell_type": "code",
   "execution_count": null,
   "metadata": {},
   "outputs": [],
   "source": [
    "def probabilistic_next_move(self, current_path):\n",
    "    last_node = current_path[-1]\n",
    "    weights = np.copy(self.pheromone[last_node])\n",
    "    weights[current_path] = 0 #evitar que se revisite um caminho\n",
    "    mask = self.distances[last_node] > 0 \n",
    "    def probabilistic_next_move(self, current_path):\n",
    "        # Obtém o último nó do caminho atual\n",
    "        last_node = current_path[-1]\n",
    "        # Copia os pesos dos feromônios do último nó\n",
    "        weights = np.copy(self.pheromone[last_node])\n",
    "        # Define os pesos dos nós já visitados como zero para evitar revisitas\n",
    "        weights[current_path] = 0\n",
    "        # Cria uma máscara para os nós que têm uma distância maior que zero\n",
    "        mask = self.distances[last_node] > 0 \n",
    "        # Ajusta os pesos dos feromônios com base na distância e no parâmetro beta\n",
    "        weights[mask] /= self.distances[last_node][mask] ** self.beta\n",
    "        # Se a soma dos pesos for zero, escolhe um nó aleatório\n",
    "        if np.sum(weights) == 0:\n",
    "            return np.random.choice(self.all_inds)\n",
    "        # Normaliza os pesos dos feromônios\n",
    "        normalized_weights = weights / np.sum(weights)\n",
    "        # Escolhe o próximo nó com base nos pesos normalizados\n",
    "        next_node = np.random.choice(self.all_inds, p=normalized_weights)\n",
    "        return next_node\n",
    "    if np.sum(weights) == 0:\n",
    "        return np.ramdom.choice(self.all_inds)\n",
    "    normalized_weights = weights / np.sum(weights)\n",
    "    next_node = np.random.choice(self.all_inds, p=normalized_weights)\n",
    "    return next_node"
   ]
  },
  {
   "cell_type": "code",
   "execution_count": 2,
   "metadata": {},
   "outputs": [],
   "source": [
    "def spread_pheronome(self, paths, best_paths): \n",
    "    # Para cada caminho e seu custo nos melhores caminhos\n",
    "    for path_cost, path in best_paths:\n",
    "        # Para cada movimento no caminho (exceto o último)\n",
    "        for move in range(len(path) - 1):\n",
    "            # Atualiza a quantidade de feromônio no caminho baseado no custo do caminho\n",
    "            self.pheromone[path[move], path[move + 1]] += 1.0 / path_cost\n",
    "            \n"
   ]
  }
 ],
 "metadata": {
  "kernelspec": {
   "display_name": ".venv",
   "language": "python",
   "name": "python3"
  },
  "language_info": {
   "codemirror_mode": {
    "name": "ipython",
    "version": 3
   },
   "file_extension": ".py",
   "mimetype": "text/x-python",
   "name": "python",
   "nbconvert_exporter": "python",
   "pygments_lexer": "ipython3",
   "version": "3.13.0"
  }
 },
 "nbformat": 4,
 "nbformat_minor": 2
}
