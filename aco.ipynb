{
 "cells": [
  {
   "cell_type": "code",
   "execution_count": null,
   "metadata": {},
   "outputs": [],
   "source": [
    "import numpy as np\n",
    "import matplotlib.pyplot as plt\n",
    "\n",
    "class AntColony:\n",
    "    def __init__(self, distance, n_ants, n_best, n_iterations, decay, alpha=1, beta=1, ):\n",
    "        self.distance = distance\n",
    "        self.pheromone = np.ones(self.distance.shape) / len(distance)\n",
    "        self.all_inds = range(len(distance))\n",
    "        self.n_ants = n_ants\n",
    "        self.n_best = n_best\n",
    "        self.n_iterations = n_iterations\n",
    "        self.decay = decay\n",
    "        self.alpha = alpha\n",
    "        self.beta = beta\n",
    "        \n",
    "    def run(self):\n",
    "        shortest_path = None\n",
    "        best_cost = float('inf')\n",
    "        all_paths = []\n",
    "        for i in range(self.n.iterations):\n",
    "            paths = self.generate_paths()\n",
    "            all_paths.extend(paths)\n",
    "            self.spread_pheronome(paths, self.beast_paths(paths))\n",
    "            best_path_cost, best_path = min((self.path_cost(path) ,path) for path in paths)   \n",
    "                if best_path_cost < best_cost:\n",
    "                    shortest_path = best_path\n",
    "                    best_cost = best_path_cost\n",
    "                self.pheromone *= self.decay\n",
    "            return all_paths, shortest_path, best_cost, all_paths     \n",
    "            "
   ]
  },
  {
   "cell_type": "code",
   "execution_count": null,
   "metadata": {},
   "outputs": [],
   "source": []
  }
 ],
 "metadata": {
  "kernelspec": {
   "display_name": ".venv",
   "language": "python",
   "name": "python3"
  },
  "language_info": {
   "codemirror_mode": {
    "name": "ipython",
    "version": 3
   },
   "file_extension": ".py",
   "mimetype": "text/x-python",
   "name": "python",
   "nbconvert_exporter": "python",
   "pygments_lexer": "ipython3",
   "version": "3.13.0"
  }
 },
 "nbformat": 4,
 "nbformat_minor": 2
}
